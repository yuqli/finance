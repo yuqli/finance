{
 "cells": [
  {
   "cell_type": "code",
   "execution_count": 1,
   "metadata": {},
   "outputs": [
    {
     "name": "stdout",
     "output_type": "stream",
     "text": [
      "<class 'bs4.element.ResultSet'>\n",
      "0001652044\n"
     ]
    }
   ],
   "source": [
    "#!usr/bin/env python\n",
    "# Heavily influenced by the R version of Seward Lee; https://github.com/sewardlee337/finreportr/blob/master/R/company_info.R\n",
    "#\n",
    "# Acquire basic company information\n",
    "#'\n",
    "#' Extracts and displays basic information relating to a given company in a data frame.\n",
    "#'\n",
    "#' @export\n",
    "#' @import dplyr\n",
    "#' @param symbol A character vector specifying the stock symbol of the company of interest.\n",
    "#' @examples\n",
    "#' CompanyInfo(\"GOOG\")\n",
    "#' CompanyInfo(\"TSLA\")\n",
    "\n",
    "import requests, bs4\n",
    "import re\n",
    "\n",
    "symbol = 'GOOG'\n",
    "\n",
    "url = 'https://www.sec.gov/cgi-bin/browse-edgar?CIK={0}&owner=exclude&action=getcompany&Find=Search'.format(symbol)\n",
    "\n",
    "res = requests.get(url)\n",
    "try:\n",
    "    res.raise_for_status()\n",
    "except Exception as exc:\n",
    "    print('There was a problem: %s' % (exc))\n",
    "\n",
    "total = bs4.BeautifulSoup(res.text, 'lxml')\n",
    "\n",
    "elems = total.find_all(\"span\", class_=\"companyName\")\n",
    "\n",
    "# Company name\n",
    "# this line is extracted from observing patterns in company names\n",
    "name = elems[0].getText().split('CIK#')[0]\n",
    "\n",
    "##   Error message for function\n",
    "if (len(name) == 0):\n",
    "    print(\"invalid company symbol\")\n",
    "\n",
    "# CIK number\n",
    "CIK = elems[0].getText().split('CIK#')[1]\n",
    "CIK = re.findall(r'\\d+',CIK)[0] # find all numbers\n",
    "\n",
    "##   Acquire SIC code\n",
    "\n",
    "elems = total.findAll(\"p\", {\"class\":\"identInfo\"})\n",
    "print(type(elems))\n",
    "\n",
    "print(CIK)"
   ]
  },
  {
   "cell_type": "code",
   "execution_count": 7,
   "metadata": {
    "scrolled": true
   },
   "outputs": [
    {
     "data": {
      "text/plain": [
       "bs4.element.Tag"
      ]
     },
     "execution_count": 7,
     "metadata": {},
     "output_type": "execute_result"
    }
   ],
   "source": [
    "type(elems[0])"
   ]
  },
  {
   "cell_type": "code",
   "execution_count": 8,
   "metadata": {},
   "outputs": [
    {
     "data": {
      "text/plain": [
       "['HTML_FORMATTERS',\n",
       " 'XML_FORMATTERS',\n",
       " '__bool__',\n",
       " '__call__',\n",
       " '__class__',\n",
       " '__contains__',\n",
       " '__copy__',\n",
       " '__delattr__',\n",
       " '__delitem__',\n",
       " '__dict__',\n",
       " '__dir__',\n",
       " '__doc__',\n",
       " '__eq__',\n",
       " '__format__',\n",
       " '__ge__',\n",
       " '__getattr__',\n",
       " '__getattribute__',\n",
       " '__getitem__',\n",
       " '__gt__',\n",
       " '__hash__',\n",
       " '__init__',\n",
       " '__init_subclass__',\n",
       " '__iter__',\n",
       " '__le__',\n",
       " '__len__',\n",
       " '__lt__',\n",
       " '__module__',\n",
       " '__ne__',\n",
       " '__new__',\n",
       " '__reduce__',\n",
       " '__reduce_ex__',\n",
       " '__repr__',\n",
       " '__setattr__',\n",
       " '__setitem__',\n",
       " '__sizeof__',\n",
       " '__str__',\n",
       " '__subclasshook__',\n",
       " '__unicode__',\n",
       " '__weakref__',\n",
       " '_all_strings',\n",
       " '_attr_value_as_string',\n",
       " '_attribute_checker',\n",
       " '_find_all',\n",
       " '_find_one',\n",
       " '_formatter_for_name',\n",
       " '_is_xml',\n",
       " '_lastRecursiveChild',\n",
       " '_last_descendant',\n",
       " '_select_debug',\n",
       " '_selector_combinators',\n",
       " '_should_pretty_print',\n",
       " '_tag_name_matches_and',\n",
       " 'append',\n",
       " 'attribselect_re',\n",
       " 'attrs',\n",
       " 'can_be_empty_element',\n",
       " 'childGenerator',\n",
       " 'children',\n",
       " 'clear',\n",
       " 'contents',\n",
       " 'decode',\n",
       " 'decode_contents',\n",
       " 'decompose',\n",
       " 'descendants',\n",
       " 'encode',\n",
       " 'encode_contents',\n",
       " 'extract',\n",
       " 'fetchNextSiblings',\n",
       " 'fetchParents',\n",
       " 'fetchPrevious',\n",
       " 'fetchPreviousSiblings',\n",
       " 'find',\n",
       " 'findAll',\n",
       " 'findAllNext',\n",
       " 'findAllPrevious',\n",
       " 'findChild',\n",
       " 'findChildren',\n",
       " 'findNext',\n",
       " 'findNextSibling',\n",
       " 'findNextSiblings',\n",
       " 'findParent',\n",
       " 'findParents',\n",
       " 'findPrevious',\n",
       " 'findPreviousSibling',\n",
       " 'findPreviousSiblings',\n",
       " 'find_all',\n",
       " 'find_all_next',\n",
       " 'find_all_previous',\n",
       " 'find_next',\n",
       " 'find_next_sibling',\n",
       " 'find_next_siblings',\n",
       " 'find_parent',\n",
       " 'find_parents',\n",
       " 'find_previous',\n",
       " 'find_previous_sibling',\n",
       " 'find_previous_siblings',\n",
       " 'format_string',\n",
       " 'get',\n",
       " 'getText',\n",
       " 'get_attribute_list',\n",
       " 'get_text',\n",
       " 'has_attr',\n",
       " 'has_key',\n",
       " 'hidden',\n",
       " 'index',\n",
       " 'insert',\n",
       " 'insert_after',\n",
       " 'insert_before',\n",
       " 'isSelfClosing',\n",
       " 'is_empty_element',\n",
       " 'known_xml',\n",
       " 'name',\n",
       " 'namespace',\n",
       " 'next',\n",
       " 'nextGenerator',\n",
       " 'nextSibling',\n",
       " 'nextSiblingGenerator',\n",
       " 'next_element',\n",
       " 'next_elements',\n",
       " 'next_sibling',\n",
       " 'next_siblings',\n",
       " 'parent',\n",
       " 'parentGenerator',\n",
       " 'parents',\n",
       " 'parserClass',\n",
       " 'parser_class',\n",
       " 'prefix',\n",
       " 'preserve_whitespace_tags',\n",
       " 'prettify',\n",
       " 'previous',\n",
       " 'previousGenerator',\n",
       " 'previousSibling',\n",
       " 'previousSiblingGenerator',\n",
       " 'previous_element',\n",
       " 'previous_elements',\n",
       " 'previous_sibling',\n",
       " 'previous_siblings',\n",
       " 'quoted_colon',\n",
       " 'recursiveChildGenerator',\n",
       " 'renderContents',\n",
       " 'replaceWith',\n",
       " 'replaceWithChildren',\n",
       " 'replace_with',\n",
       " 'replace_with_children',\n",
       " 'select',\n",
       " 'select_one',\n",
       " 'setup',\n",
       " 'string',\n",
       " 'strings',\n",
       " 'stripped_strings',\n",
       " 'tag_name_re',\n",
       " 'text',\n",
       " 'unwrap',\n",
       " 'wrap']"
      ]
     },
     "execution_count": 8,
     "metadata": {},
     "output_type": "execute_result"
    }
   ],
   "source": [
    "dir(elems[0])"
   ]
  },
  {
   "cell_type": "code",
   "execution_count": 14,
   "metadata": {},
   "outputs": [
    {
     "data": {
      "text/plain": [
       "[<acronym title=\"Standard Industrial Code\">SIC</acronym>,\n",
       " ': ',\n",
       " <a href=\"/cgi-bin/browse-edgar?action=getcompany&amp;SIC=7370&amp;owner=exclude&amp;count=40\">7370</a>,\n",
       " ' - SERVICES-COMPUTER PROGRAMMING, DATA PROCESSING, ETC.',\n",
       " <br/>,\n",
       " 'State location: ',\n",
       " <a href=\"/cgi-bin/browse-edgar?action=getcompany&amp;State=CA&amp;owner=exclude&amp;count=40\">CA</a>,\n",
       " ' | State of Inc.: ',\n",
       " <strong>DE</strong>,\n",
       " ' | Fiscal Year End: 1231',\n",
       " <br/>,\n",
       " '(Assistant Director Office: 3)',\n",
       " <br/>,\n",
       " 'Get ',\n",
       " <a href=\"/cgi-bin/own-disp?action=getissuer&amp;CIK=0001652044\"><b>insider transactions</b></a>,\n",
       " ' for this ',\n",
       " <b>issuer</b>,\n",
       " '.\\n',\n",
       " <br/>,\n",
       " 'Get ',\n",
       " <a href=\"/cgi-bin/own-disp?action=getowner&amp;CIK=0001652044\"><b>insider transactions</b></a>,\n",
       " ' for this ',\n",
       " <b>reporting owner</b>,\n",
       " '.\\n']"
      ]
     },
     "execution_count": 14,
     "metadata": {},
     "output_type": "execute_result"
    }
   ],
   "source": [
    "elems[0].contents"
   ]
  },
  {
   "cell_type": "code",
   "execution_count": 18,
   "metadata": {},
   "outputs": [],
   "source": [
    "SIC = elems[0].contents[2].getText()"
   ]
  },
  {
   "cell_type": "code",
   "execution_count": 19,
   "metadata": {},
   "outputs": [
    {
     "name": "stdout",
     "output_type": "stream",
     "text": [
      "7370\n"
     ]
    }
   ],
   "source": [
    "print(SIC)"
   ]
  },
  {
   "cell_type": "markdown",
   "metadata": {},
   "source": [
    "### Acquire mailing address"
   ]
  },
  {
   "cell_type": "code",
   "execution_count": 23,
   "metadata": {},
   "outputs": [
    {
     "data": {
      "text/plain": [
       "<!DOCTYPE HTML PUBLIC \"-//W3C//DTD HTML 4.01 Transitional//EN\" \"http://www.w3.org/TR/html4/loose.dtd\">\n",
       "<html lang=\"ENG\">\n",
       "<head>\n",
       "<title>EDGAR Search Results</title>\n",
       "<link href=\"/include/interactive.css\" rel=\"stylesheet\" type=\"text/css\"/>\n",
       "<link href=\"/cgi-bin/browse-edgar?action=getcompany&amp;CIK=0001652044&amp;type=&amp;dateb=&amp;owner=exclude&amp;count=40&amp;output=atom\" rel=\"alternate\" title=\"ATOM\" type=\"application/atom+xml\"/>\n",
       "</head>\n",
       "<body style=\"margin: 0\">\n",
       "<!-- SEC Web Analytics - For information please visit: http://www.sec.gov/privacy.htm#collectedinfo -->\n",
       "<noscript><iframe height=\"0\" src=\"//www.googletagmanager.com/ns.html?id=GTM-TD3BKV\" style=\"display:none;visibility:hidden\" width=\"0\"></iframe></noscript>\n",
       "<script>(function(w,d,s,l,i){w[l]=w[l]||[];w[l].push({'gtm.start':\n",
       "new Date().getTime(),event:'gtm.js'});var f=d.getElementsByTagName(s)[0],\n",
       "j=d.createElement(s),dl=l!='dataLayer'?'&l='+l:'';j.async=true;j.src=\n",
       "'//www.googletagmanager.com/gtm.js?id='+i+dl;f.parentNode.insertBefore(j,f);\n",
       "})(window,document,'script','dataLayer','GTM-TD3BKV');</script>\n",
       "<!-- End SEC Web Analytics -->\n",
       "<!-- BEGIN BANNER -->\n",
       "<div id=\"headerTop\">\n",
       "<div id=\"Nav\"><a href=\"/index.htm\">Home</a> | <a href=\"/cgi-bin/browse-edgar?action=getcurrent\">Latest Filings</a> | <a href=\"javascript:history.back()\">Previous Page</a></div>\n",
       "<div id=\"seal\"><a href=\"/index.htm\"><img alt=\"SEC Seal\" border=\"0\" src=\"/images/sealTop.gif\"/></a></div>\n",
       "<div id=\"secWordGraphic\"><img alt=\"SEC Banner\" src=\"/images/bannerTitle.gif\"/></div>\n",
       "</div>\n",
       "<div id=\"headerBottom\">\n",
       "<div id=\"secBetaGraphic\"><a href=\"/cgi-bin/browse-edgar?action=getcompany&amp;CIK=0001652044&amp;type=&amp;dateb=&amp;owner=exclude&amp;count=100&amp;output=xml\"><img alt=\"EDGAR USA Search\" src=\"/images/edgar_button_usasearch.png\" style=\"border-style: none\"/></a></div> <div id=\"PageTitle\">EDGAR Search Results</div>\n",
       "</div>\n",
       "<!-- END BANNER -->\n",
       "<!-- BEGIN BREADCRUMBS -->\n",
       "<div id=\"breadCrumbs\">\n",
       "<ul>\n",
       "<li><a href=\"/index.htm\">SEC Home</a> »</li>\n",
       "<li><a href=\"/edgar/searchedgar/webusers.htm\">Search the Next-Generation EDGAR System</a> »</li>\n",
       "<li><a href=\"/edgar/searchedgar/companysearch.html\">Company Search</a> »</li>\n",
       "<li class=\"last\">Current Page</li>\n",
       "</ul>\n",
       "</div>\n",
       "<!-- END BREADCRUMBS -->\n",
       "<div id=\"contentDiv\">\n",
       "<!-- START FILER DIV -->\n",
       "<div style=\"margin: 15px 0 10px 0; padding: 3px; overflow: hidden; background-color: #BCD6F8;\">\n",
       "<div class=\"mailer\">Mailing Address\n",
       "         <span class=\"mailerAddress\">1600 AMPHITHEATRE PARKWAY</span>\n",
       "<span class=\"mailerAddress\">\n",
       "MOUNTAIN VIEW CA 94043         </span>\n",
       "</div>\n",
       "<div class=\"mailer\">Business Address\n",
       "         <span class=\"mailerAddress\">1600 AMPHITHEATRE PARKWAY</span>\n",
       "<span class=\"mailerAddress\">\n",
       "MOUNTAIN VIEW CA 94043         </span>\n",
       "<span class=\"mailerAddress\">650-253-0000</span>\n",
       "</div>\n",
       "<div class=\"companyInfo\">\n",
       "<span class=\"companyName\">Alphabet Inc. <acronym title=\"Central Index Key\">CIK</acronym>#: <a href=\"/cgi-bin/browse-edgar?action=getcompany&amp;CIK=0001652044&amp;owner=exclude&amp;count=40\">0001652044 (see all company filings)</a></span>\n",
       "<p class=\"identInfo\"><acronym title=\"Standard Industrial Code\">SIC</acronym>: <a href=\"/cgi-bin/browse-edgar?action=getcompany&amp;SIC=7370&amp;owner=exclude&amp;count=40\">7370</a> - SERVICES-COMPUTER PROGRAMMING, DATA PROCESSING, ETC.<br/>State location: <a href=\"/cgi-bin/browse-edgar?action=getcompany&amp;State=CA&amp;owner=exclude&amp;count=40\">CA</a> | State of Inc.: <strong>DE</strong> | Fiscal Year End: 1231<br/>(Assistant Director Office: 3)<br/>Get <a href=\"/cgi-bin/own-disp?action=getissuer&amp;CIK=0001652044\"><b>insider transactions</b></a> for this <b>issuer</b>.\n",
       "<br/>Get <a href=\"/cgi-bin/own-disp?action=getowner&amp;CIK=0001652044\"><b>insider transactions</b></a> for this <b>reporting owner</b>.\n",
       "</p>\n",
       "</div>\n",
       "</div>\n",
       "<div style=\"width: 100%;\">\n",
       "<form action=\"/cgi-bin/browse-edgar\" method=\"GET\">\n",
       "<input name=\"action\" type=\"hidden\" value=\"getcompany\"/>\n",
       "<input name=\"CIK\" type=\"hidden\" value=\"0001652044\"/>\n",
       "<table style=\"margin: 0px; background:#FFFFFF; border: 1px solid #BCD6F8; width: 100%;\">\n",
       "<tr>\n",
       "<td>Filter Results:</td>\n",
       "<td><label for=\"type\">Filing Type:</label><br/><input id=\"type\" name=\"type\" size=\"10\" tabindex=\"1\" value=\"\"/></td>\n",
       "<td><label for=\"prior_to\">Prior to:</label> (YYYYMMDD)<br/><input id=\"prior_to\" name=\"dateb\" size=\"10\" tabindex=\"2\" value=\"\"/></td>\n",
       "<td>Ownership?<br/><input id=\"include\" name=\"owner\" tabindex=\"3\" type=\"radio\" value=\"include\"/><label for=\"include\">include</label><input checked=\"checked\" id=\"exclude\" name=\"owner\" tabindex=\"4\" type=\"radio\" value=\"exclude\"/><label for=\"exclude\">exclude</label><input id=\"only\" name=\"owner\" tabindex=\"5\" type=\"radio\" value=\"only\"/><label for=\"only\">only</label>\n",
       "</td><td><label for=\"count\">Limit Results Per Page</label><br/>\n",
       "<select id=\"count\" name=\"count\" tabindex=\"6\">\n",
       "<option value=\"10\">10 Entries\n",
       "                     </option><option value=\"20\">20 Entries\n",
       "                     </option><option selected=\"\" value=\"40\">40 Entries\n",
       "                     </option><option value=\"80\">80 Entries\n",
       "                     </option><option value=\"100\">100 Entries\n",
       "                  </option></select>\n",
       "</td>\n",
       "<td style=\"text-align: middle;\"><input type=\"submit\" value=\"Search\"/><br/><input onclick=\"this.form.type.value=''\" type=\"submit\" value=\"Show All\"/></td>\n",
       "</tr>\n",
       "</table>\n",
       "</form>\n",
       "</div>\n",
       "<!-- END FILER DIV -->\n",
       "<div style=\"margin-top: 5px; margin-bottom: 5px;\">\n",
       "<form>\n",
       "<table border=\"0\" width=\"100%\">\n",
       "<tr>\n",
       "<td>Items 1 - 40  <a href=\"/cgi-bin/browse-edgar?action=getcompany&amp;CIK=0001652044&amp;CIK=0001652044&amp;type=&amp;dateb=&amp;owner=exclude&amp;start=0&amp;count=40&amp;output=atom\"><img align=\"top\" alt=\"0001652044 Filings\" border=\"0\" src=\"/images/rss-feed-icon-14x14.png\"/> RSS Feed</a></td>\n",
       "<td style=\"text-align: right;\"> <input onclick=\"parent.location='/cgi-bin/browse-edgar?action=getcompany&amp;CIK=0001652044&amp;type=&amp;dateb=&amp;owner=exclude&amp;start=40&amp;count=40'\" type=\"button\" value=\"Next 40\"/></td>\n",
       "</tr>\n",
       "</table>\n",
       "</form>\n",
       "</div>\n",
       "<div id=\"seriesDiv\" style=\"margin-top: 0px;\">\n",
       "<table class=\"tableFile2\" summary=\"Results\">\n",
       "<tr>\n",
       "<th scope=\"col\" width=\"7%\">Filings</th>\n",
       "<th scope=\"col\" width=\"10%\">Format</th>\n",
       "<th scope=\"col\">Description</th>\n",
       "<th scope=\"col\" width=\"10%\">Filing Date</th>\n",
       "<th scope=\"col\" width=\"15%\">File/Film Number</th>\n",
       "</tr>\n",
       "<tr>\n",
       "<td nowrap=\"nowrap\">SC 13G/A</td>\n",
       "<td nowrap=\"nowrap\"><a href=\"/Archives/edgar/data/1652044/000119312518042754/0001193125-18-042754-index.htm\" id=\"documentsbutton\"> Documents</a></td>\n",
       "<td class=\"small\"><b>[Amend]</b> Statement of acquisition of beneficial ownership by individuals<br/>Acc-no: 0001193125-18-042754 (34 Act)  Size: 81 KB            </td>\n",
       "<td>2018-02-13</td>\n",
       "<td nowrap=\"nowrap\"><a href=\"/cgi-bin/browse-edgar?action=getcompany&amp;filenum=005-89274&amp;owner=exclude&amp;count=40\">005-89274</a><br/>18604393         </td>\n",
       "</tr>\n",
       "<tr class=\"blueRow\">\n",
       "<td nowrap=\"nowrap\">SC 13G/A</td>\n",
       "<td nowrap=\"nowrap\"><a href=\"/Archives/edgar/data/1652044/000031506618001018/0000315066-18-001018-index.htm\" id=\"documentsbutton\"> Documents</a></td>\n",
       "<td class=\"small\"><b>[Amend]</b> Statement of acquisition of beneficial ownership by individuals<br/>Acc-no: 0000315066-18-001018 (34 Act)  Size: 9 KB            </td>\n",
       "<td>2018-02-13</td>\n",
       "<td nowrap=\"nowrap\"><a href=\"/cgi-bin/browse-edgar?action=getcompany&amp;filenum=005-89274&amp;owner=exclude&amp;count=40\">005-89274</a><br/>18599502         </td>\n",
       "</tr>\n",
       "<tr>\n",
       "<td nowrap=\"nowrap\">SC 13G/A</td>\n",
       "<td nowrap=\"nowrap\"><a href=\"/Archives/edgar/data/1652044/000129523118000002/0001295231-18-000002-index.htm\" id=\"documentsbutton\"> Documents</a></td>\n",
       "<td class=\"small\"><b>[Amend]</b> Statement of acquisition of beneficial ownership by individuals<br/>Acc-no: 0001295231-18-000002 (34 Act)  Size: 54 KB            </td>\n",
       "<td>2018-02-12</td>\n",
       "<td nowrap=\"nowrap\"><a href=\"/cgi-bin/browse-edgar?action=getcompany&amp;filenum=005-89274&amp;owner=exclude&amp;count=40\">005-89274</a><br/>18596214         </td>\n",
       "</tr>\n",
       "<tr class=\"blueRow\">\n",
       "<td nowrap=\"nowrap\">SC 13G/A</td>\n",
       "<td nowrap=\"nowrap\"><a href=\"/Archives/edgar/data/1652044/000129503218000002/0001295032-18-000002-index.htm\" id=\"documentsbutton\"> Documents</a></td>\n",
       "<td class=\"small\"><b>[Amend]</b> Statement of acquisition of beneficial ownership by individuals<br/>Acc-no: 0001295032-18-000002 (34 Act)  Size: 56 KB            </td>\n",
       "<td>2018-02-12</td>\n",
       "<td nowrap=\"nowrap\"><a href=\"/cgi-bin/browse-edgar?action=getcompany&amp;filenum=005-89274&amp;owner=exclude&amp;count=40\">005-89274</a><br/>18596187         </td>\n",
       "</tr>\n",
       "<tr>\n",
       "<td nowrap=\"nowrap\">SC 13G/A</td>\n",
       "<td nowrap=\"nowrap\"><a href=\"/Archives/edgar/data/1652044/000093247118004771/0000932471-18-004771-index.htm\" id=\"documentsbutton\"> Documents</a></td>\n",
       "<td class=\"small\"><b>[Amend]</b> Statement of acquisition of beneficial ownership by individuals<br/>Acc-no: 0000932471-18-004771 (34 Act)  Size: 45 KB            </td>\n",
       "<td>2018-02-12</td>\n",
       "<td nowrap=\"nowrap\"><a href=\"/cgi-bin/browse-edgar?action=getcompany&amp;filenum=005-89274&amp;owner=exclude&amp;count=40\">005-89274</a><br/>18594978         </td>\n",
       "</tr>\n",
       "<tr class=\"blueRow\">\n",
       "<td nowrap=\"nowrap\">SC 13G/A</td>\n",
       "<td nowrap=\"nowrap\"><a href=\"/Archives/edgar/data/1652044/000093247118004768/0000932471-18-004768-index.htm\" id=\"documentsbutton\"> Documents</a></td>\n",
       "<td class=\"small\"><b>[Amend]</b> Statement of acquisition of beneficial ownership by individuals<br/>Acc-no: 0000932471-18-004768 (34 Act)  Size: 45 KB            </td>\n",
       "<td>2018-02-12</td>\n",
       "<td nowrap=\"nowrap\"><a href=\"/cgi-bin/browse-edgar?action=getcompany&amp;filenum=005-89274&amp;owner=exclude&amp;count=40\">005-89274</a><br/>18594962         </td>\n",
       "</tr>\n",
       "<tr>\n",
       "<td nowrap=\"nowrap\">10-K</td>\n",
       "<td nowrap=\"nowrap\"><a href=\"/Archives/edgar/data/1652044/000165204418000007/0001652044-18-000007-index.htm\" id=\"documentsbutton\"> Documents</a>  <a href=\"/cgi-bin/viewer?action=view&amp;cik=1652044&amp;accession_number=0001652044-18-000007&amp;xbrl_type=v\" id=\"interactiveDataBtn\"> Interactive Data</a></td>\n",
       "<td class=\"small\">Annual report [Section 13 and 15(d), not S-K Item 405]<br/>Acc-no: 0001652044-18-000007 (34 Act)  Size: 14 MB            </td>\n",
       "<td>2018-02-06</td>\n",
       "<td nowrap=\"nowrap\"><a href=\"/cgi-bin/browse-edgar?action=getcompany&amp;filenum=001-37580&amp;owner=exclude&amp;count=40\">001-37580</a><br/>18575994         </td>\n",
       "</tr>\n",
       "<tr class=\"blueRow\">\n",
       "<td nowrap=\"nowrap\">8-K</td>\n",
       "<td nowrap=\"nowrap\"><a href=\"/Archives/edgar/data/1652044/000165204418000004/0001652044-18-000004-index.htm\" id=\"documentsbutton\"> Documents</a></td>\n",
       "<td class=\"small\">Current report, items 2.02 and 5.02\n",
       "<br/>Acc-no: 0001652044-18-000004 (34 Act)  Size: 472 KB            </td>\n",
       "<td>2018-02-01</td>\n",
       "<td nowrap=\"nowrap\"><a href=\"/cgi-bin/browse-edgar?action=getcompany&amp;filenum=001-37580&amp;owner=exclude&amp;count=40\">001-37580</a><br/>18566869         </td>\n",
       "</tr>\n",
       "<tr>\n",
       "<td nowrap=\"nowrap\">SC 13G</td>\n",
       "<td nowrap=\"nowrap\"><a href=\"/Archives/edgar/data/1652044/000021545718004641/0000215457-18-004641-index.htm\" id=\"documentsbutton\"> Documents</a></td>\n",
       "<td class=\"small\">Statement of acquisition of beneficial ownership by individuals<br/>Acc-no: 0000215457-18-004641 (34 Act)  Size: 13 KB            </td>\n",
       "<td>2018-02-01</td>\n",
       "<td nowrap=\"nowrap\"><a href=\"/cgi-bin/browse-edgar?action=getcompany&amp;filenum=005-89274&amp;owner=exclude&amp;count=40\">005-89274</a><br/>18565096         </td>\n",
       "</tr>\n",
       "<tr class=\"blueRow\">\n",
       "<td nowrap=\"nowrap\">SC 13G/A</td>\n",
       "<td nowrap=\"nowrap\"><a href=\"/Archives/edgar/data/1652044/000021545718003806/0000215457-18-003806-index.htm\" id=\"documentsbutton\"> Documents</a></td>\n",
       "<td class=\"small\"><b>[Amend]</b> Statement of acquisition of beneficial ownership by individuals<br/>Acc-no: 0000215457-18-003806 (34 Act)  Size: 13 KB            </td>\n",
       "<td>2018-01-29</td>\n",
       "<td nowrap=\"nowrap\"><a href=\"/cgi-bin/browse-edgar?action=getcompany&amp;filenum=005-89274&amp;owner=exclude&amp;count=40\">005-89274</a><br/>18556053         </td>\n",
       "</tr>\n",
       "<tr>\n",
       "<td nowrap=\"nowrap\">UPLOAD</td>\n",
       "<td nowrap=\"nowrap\"><a href=\"/Archives/edgar/data/1652044/000000000018002893/0000000000-18-002893-index.htm\" id=\"documentsbutton\"> Documents</a></td>\n",
       "<td class=\"small\"><b>[Cover]</b>SEC-generated letter<br/>Acc-no: 0000000000-18-002893 Size: 35 KB            </td>\n",
       "<td>2018-01-26</td>\n",
       "<td></td>\n",
       "</tr>\n",
       "<tr class=\"blueRow\">\n",
       "<td nowrap=\"nowrap\">8-K</td>\n",
       "<td nowrap=\"nowrap\"><a href=\"/Archives/edgar/data/1652044/000119312517376656/0001193125-17-376656-index.htm\" id=\"documentsbutton\"> Documents</a></td>\n",
       "<td class=\"small\">Current report, items 5.02 and 9.01\n",
       "<br/>Acc-no: 0001193125-17-376656 (34 Act)  Size: 19 KB            </td>\n",
       "<td>2017-12-21</td>\n",
       "<td nowrap=\"nowrap\"><a href=\"/cgi-bin/browse-edgar?action=getcompany&amp;filenum=001-37580&amp;owner=exclude&amp;count=40\">001-37580</a><br/>171270230         </td>\n",
       "</tr>\n",
       "<tr>\n",
       "<td nowrap=\"nowrap\">CORRESP</td>\n",
       "<td nowrap=\"nowrap\"><a href=\"/Archives/edgar/data/1652044/000165204417000048/0001652044-17-000048-index.htm\" id=\"documentsbutton\"> Documents</a></td>\n",
       "<td class=\"small\"><b>[Cover]</b>Correspondence<br/>Acc-no: 0001652044-17-000048 Size: 113 KB            </td>\n",
       "<td>2017-12-15</td>\n",
       "<td></td>\n",
       "</tr>\n",
       "<tr class=\"blueRow\">\n",
       "<td nowrap=\"nowrap\">CORRESP</td>\n",
       "<td nowrap=\"nowrap\"><a href=\"/Archives/edgar/data/1652044/000165204417000045/0001652044-17-000045-index.htm\" id=\"documentsbutton\"> Documents</a></td>\n",
       "<td class=\"small\"><b>[Cover]</b>Correspondence<br/>Acc-no: 0001652044-17-000045 Size: 11 KB            </td>\n",
       "<td>2017-11-20</td>\n",
       "<td></td>\n",
       "</tr>\n",
       "<tr>\n",
       "<td nowrap=\"nowrap\">UPLOAD</td>\n",
       "<td nowrap=\"nowrap\"><a href=\"/Archives/edgar/data/1652044/000000000017039681/0000000000-17-039681-index.htm\" id=\"documentsbutton\"> Documents</a></td>\n",
       "<td class=\"small\"><b>[Cover]</b>SEC-generated letter<br/>Acc-no: 0000000000-17-039681 Size: 146 KB            </td>\n",
       "<td>2017-11-08</td>\n",
       "<td></td>\n",
       "</tr>\n",
       "<tr class=\"blueRow\">\n",
       "<td nowrap=\"nowrap\">10-Q</td>\n",
       "<td nowrap=\"nowrap\"><a href=\"/Archives/edgar/data/1652044/000165204417000042/0001652044-17-000042-index.htm\" id=\"documentsbutton\"> Documents</a>  <a href=\"/cgi-bin/viewer?action=view&amp;cik=1652044&amp;accession_number=0001652044-17-000042&amp;xbrl_type=v\" id=\"interactiveDataBtn\"> Interactive Data</a></td>\n",
       "<td class=\"small\">Quarterly report [Sections 13 or 15(d)]<br/>Acc-no: 0001652044-17-000042 (34 Act)  Size: 11 MB            </td>\n",
       "<td>2017-10-27</td>\n",
       "<td nowrap=\"nowrap\"><a href=\"/cgi-bin/browse-edgar?action=getcompany&amp;filenum=001-37580&amp;owner=exclude&amp;count=40\">001-37580</a><br/>171157394         </td>\n",
       "</tr>\n",
       "<tr>\n",
       "<td nowrap=\"nowrap\">8-K</td>\n",
       "<td nowrap=\"nowrap\"><a href=\"/Archives/edgar/data/1652044/000165204417000039/0001652044-17-000039-index.htm\" id=\"documentsbutton\"> Documents</a></td>\n",
       "<td class=\"small\">Current report, items 2.02 and 9.01\n",
       "<br/>Acc-no: 0001652044-17-000039 (34 Act)  Size: 438 KB            </td>\n",
       "<td>2017-10-26</td>\n",
       "<td nowrap=\"nowrap\"><a href=\"/cgi-bin/browse-edgar?action=getcompany&amp;filenum=001-37580&amp;owner=exclude&amp;count=40\">001-37580</a><br/>171156299         </td>\n",
       "</tr>\n",
       "<tr class=\"blueRow\">\n",
       "<td nowrap=\"nowrap\">CORRESP</td>\n",
       "<td nowrap=\"nowrap\"><a href=\"/Archives/edgar/data/1652044/000165204417000036/0001652044-17-000036-index.htm\" id=\"documentsbutton\"> Documents</a></td>\n",
       "<td class=\"small\"><b>[Cover]</b>Correspondence<br/>Acc-no: 0001652044-17-000036 Size: 109 KB            </td>\n",
       "<td>2017-10-16</td>\n",
       "<td></td>\n",
       "</tr>\n",
       "<tr>\n",
       "<td nowrap=\"nowrap\">CORRESP</td>\n",
       "<td nowrap=\"nowrap\"><a href=\"/Archives/edgar/data/1652044/000165204417000034/0001652044-17-000034-index.htm\" id=\"documentsbutton\"> Documents</a></td>\n",
       "<td class=\"small\"><b>[Cover]</b>Correspondence<br/>Acc-no: 0001652044-17-000034 Size: 10 KB            </td>\n",
       "<td>2017-10-05</td>\n",
       "<td></td>\n",
       "</tr>\n",
       "<tr class=\"blueRow\">\n",
       "<td nowrap=\"nowrap\">UPLOAD</td>\n",
       "<td nowrap=\"nowrap\"><a href=\"/Archives/edgar/data/1652044/000000000017034399/0000000000-17-034399-index.htm\" id=\"documentsbutton\"> Documents</a></td>\n",
       "<td class=\"small\"><b>[Cover]</b>SEC-generated letter<br/>Acc-no: 0000000000-17-034399 Size: 62 KB            </td>\n",
       "<td>2017-09-27</td>\n",
       "<td></td>\n",
       "</tr>\n",
       "<tr>\n",
       "<td nowrap=\"nowrap\">CORRESP</td>\n",
       "<td nowrap=\"nowrap\"><a href=\"/Archives/edgar/data/1652044/000165204417000031/0001652044-17-000031-index.htm\" id=\"documentsbutton\"> Documents</a></td>\n",
       "<td class=\"small\"><b>[Cover]</b>Correspondence<br/>Acc-no: 0001652044-17-000031 Size: 77 KB            </td>\n",
       "<td>2017-08-25</td>\n",
       "<td></td>\n",
       "</tr>\n",
       "<tr class=\"blueRow\">\n",
       "<td nowrap=\"nowrap\">CORRESP</td>\n",
       "<td nowrap=\"nowrap\"><a href=\"/Archives/edgar/data/1652044/000165204417000028/0001652044-17-000028-index.htm\" id=\"documentsbutton\"> Documents</a></td>\n",
       "<td class=\"small\"><b>[Cover]</b>Correspondence<br/>Acc-no: 0001652044-17-000028 Size: 10 KB            </td>\n",
       "<td>2017-08-08</td>\n",
       "<td></td>\n",
       "</tr>\n",
       "<tr>\n",
       "<td nowrap=\"nowrap\">UPLOAD</td>\n",
       "<td nowrap=\"nowrap\"><a href=\"/Archives/edgar/data/1652044/000000000017026686/0000000000-17-026686-index.htm\" id=\"documentsbutton\"> Documents</a></td>\n",
       "<td class=\"small\"><b>[Cover]</b>SEC-generated letter<br/>Acc-no: 0000000000-17-026686 Size: 146 KB            </td>\n",
       "<td>2017-07-28</td>\n",
       "<td></td>\n",
       "</tr>\n",
       "<tr class=\"blueRow\">\n",
       "<td nowrap=\"nowrap\">S-8</td>\n",
       "<td nowrap=\"nowrap\"><a href=\"/Archives/edgar/data/1652044/000119312517234099/0001193125-17-234099-index.htm\" id=\"documentsbutton\"> Documents</a></td>\n",
       "<td class=\"small\">Securities to be offered to employees in employee benefit plans<br/>Acc-no: 0001193125-17-234099 (33 Act)  Size: 70 KB            </td>\n",
       "<td>2017-07-25</td>\n",
       "<td nowrap=\"nowrap\"><a href=\"/cgi-bin/browse-edgar?action=getcompany&amp;filenum=333-219435&amp;owner=exclude&amp;count=40\">333-219435</a><br/>17979091         </td>\n",
       "</tr>\n",
       "<tr>\n",
       "<td nowrap=\"nowrap\">10-Q</td>\n",
       "<td nowrap=\"nowrap\"><a href=\"/Archives/edgar/data/1652044/000165204417000026/0001652044-17-000026-index.htm\" id=\"documentsbutton\"> Documents</a>  <a href=\"/cgi-bin/viewer?action=view&amp;cik=1652044&amp;accession_number=0001652044-17-000026&amp;xbrl_type=v\" id=\"interactiveDataBtn\"> Interactive Data</a></td>\n",
       "<td class=\"small\">Quarterly report [Sections 13 or 15(d)]<br/>Acc-no: 0001652044-17-000026 (34 Act)  Size: 11 MB            </td>\n",
       "<td>2017-07-25</td>\n",
       "<td nowrap=\"nowrap\"><a href=\"/cgi-bin/browse-edgar?action=getcompany&amp;filenum=001-37580&amp;owner=exclude&amp;count=40\">001-37580</a><br/>17979076         </td>\n",
       "</tr>\n",
       "<tr class=\"blueRow\">\n",
       "<td nowrap=\"nowrap\">8-K</td>\n",
       "<td nowrap=\"nowrap\"><a href=\"/Archives/edgar/data/1652044/000165204417000024/0001652044-17-000024-index.htm\" id=\"documentsbutton\"> Documents</a></td>\n",
       "<td class=\"small\">Current report, items 2.02, 5.02, and 9.01\n",
       "<br/>Acc-no: 0001652044-17-000024 (34 Act)  Size: 472 KB            </td>\n",
       "<td>2017-07-24</td>\n",
       "<td nowrap=\"nowrap\"><a href=\"/cgi-bin/browse-edgar?action=getcompany&amp;filenum=001-37580&amp;owner=exclude&amp;count=40\">001-37580</a><br/>17978362         </td>\n",
       "</tr>\n",
       "<tr>\n",
       "<td nowrap=\"nowrap\">8-K</td>\n",
       "<td nowrap=\"nowrap\"><a href=\"/Archives/edgar/data/1652044/000119312517214148/0001193125-17-214148-index.htm\" id=\"documentsbutton\"> Documents</a></td>\n",
       "<td class=\"small\">Current report, items 8.01 and 9.01\n",
       "<br/>Acc-no: 0001193125-17-214148 (34 Act)  Size: 110 KB            </td>\n",
       "<td>2017-06-27</td>\n",
       "<td nowrap=\"nowrap\"><a href=\"/cgi-bin/browse-edgar?action=getcompany&amp;filenum=001-37580&amp;owner=exclude&amp;count=40\">001-37580</a><br/>17931266         </td>\n",
       "</tr>\n",
       "<tr class=\"blueRow\">\n",
       "<td nowrap=\"nowrap\">8-K</td>\n",
       "<td nowrap=\"nowrap\"><a href=\"/Archives/edgar/data/1652044/000119312517200227/0001193125-17-200227-index.htm\" id=\"documentsbutton\"> Documents</a></td>\n",
       "<td class=\"small\">Current report, items 5.02, 5.07, and 9.01\n",
       "<br/>Acc-no: 0001193125-17-200227 (34 Act)  Size: 157 KB            </td>\n",
       "<td>2017-06-09</td>\n",
       "<td nowrap=\"nowrap\"><a href=\"/cgi-bin/browse-edgar?action=getcompany&amp;filenum=001-37580&amp;owner=exclude&amp;count=40\">001-37580</a><br/>17903739         </td>\n",
       "</tr>\n",
       "<tr>\n",
       "<td nowrap=\"nowrap\">SD</td>\n",
       "<td nowrap=\"nowrap\"><a href=\"/Archives/edgar/data/1652044/000165204417000017/0001652044-17-000017-index.htm\" id=\"documentsbutton\"> Documents</a></td>\n",
       "<td class=\"small\">Acc-no: 0001652044-17-000017 (34 Act)  Size: 659 KB            </td>\n",
       "<td>2017-05-26</td>\n",
       "<td nowrap=\"nowrap\"><a href=\"/cgi-bin/browse-edgar?action=getcompany&amp;filenum=001-37580&amp;owner=exclude&amp;count=40\">001-37580</a><br/>17873909         </td>\n",
       "</tr>\n",
       "<tr class=\"blueRow\">\n",
       "<td nowrap=\"nowrap\">PX14A6G</td>\n",
       "<td nowrap=\"nowrap\"><a href=\"/Archives/edgar/data/1652044/000121465917003050/0001214659-17-003050-index.htm\" id=\"documentsbutton\"> Documents</a></td>\n",
       "<td class=\"small\">Notice of exempt solicitation<br/>Acc-no: 0001214659-17-003050 (34 Act)  Size: 68 KB            </td>\n",
       "<td>2017-05-08</td>\n",
       "<td nowrap=\"nowrap\"><a href=\"/cgi-bin/browse-edgar?action=getcompany&amp;filenum=001-37580&amp;owner=exclude&amp;count=40\">001-37580</a><br/>17822178         </td>\n",
       "</tr>\n",
       "<tr>\n",
       "<td nowrap=\"nowrap\">10-Q</td>\n",
       "<td nowrap=\"nowrap\"><a href=\"/Archives/edgar/data/1652044/000165204417000014/0001652044-17-000014-index.htm\" id=\"documentsbutton\"> Documents</a>  <a href=\"/cgi-bin/viewer?action=view&amp;cik=1652044&amp;accession_number=0001652044-17-000014&amp;xbrl_type=v\" id=\"interactiveDataBtn\"> Interactive Data</a></td>\n",
       "<td class=\"small\">Quarterly report [Sections 13 or 15(d)]<br/>Acc-no: 0001652044-17-000014 (34 Act)  Size: 9 MB            </td>\n",
       "<td>2017-05-02</td>\n",
       "<td nowrap=\"nowrap\"><a href=\"/cgi-bin/browse-edgar?action=getcompany&amp;filenum=001-37580&amp;owner=exclude&amp;count=40\">001-37580</a><br/>17805375         </td>\n",
       "</tr>\n",
       "<tr class=\"blueRow\">\n",
       "<td nowrap=\"nowrap\">DEFA14A</td>\n",
       "<td nowrap=\"nowrap\"><a href=\"/Archives/edgar/data/1652044/000130817917000171/0001308179-17-000171-index.htm\" id=\"documentsbutton\"> Documents</a></td>\n",
       "<td class=\"small\">Additional definitive proxy soliciting materials and Rule 14(a)(12) material<br/>Acc-no: 0001308179-17-000171 (34 Act)  Size: 1 MB            </td>\n",
       "<td>2017-04-28</td>\n",
       "<td nowrap=\"nowrap\"><a href=\"/cgi-bin/browse-edgar?action=getcompany&amp;filenum=001-37580&amp;owner=exclude&amp;count=40\">001-37580</a><br/>17795485         </td>\n",
       "</tr>\n",
       "<tr>\n",
       "<td nowrap=\"nowrap\">DEF 14A</td>\n",
       "<td nowrap=\"nowrap\"><a href=\"/Archives/edgar/data/1652044/000130817917000170/0001308179-17-000170-index.htm\" id=\"documentsbutton\"> Documents</a></td>\n",
       "<td class=\"small\">Other definitive proxy statements<br/>Acc-no: 0001308179-17-000170 (34 Act)  Size: 2 MB            </td>\n",
       "<td>2017-04-28</td>\n",
       "<td nowrap=\"nowrap\"><a href=\"/cgi-bin/browse-edgar?action=getcompany&amp;filenum=001-37580&amp;owner=exclude&amp;count=40\">001-37580</a><br/>17795440         </td>\n",
       "</tr>\n",
       "<tr class=\"blueRow\">\n",
       "<td nowrap=\"nowrap\">8-K</td>\n",
       "<td nowrap=\"nowrap\"><a href=\"/Archives/edgar/data/1652044/000165204417000011/0001652044-17-000011-index.htm\" id=\"documentsbutton\"> Documents</a></td>\n",
       "<td class=\"small\">Current report, items 2.02, 8.01, and 9.01\n",
       "<br/>Acc-no: 0001652044-17-000011 (34 Act)  Size: 448 KB            </td>\n",
       "<td>2017-04-27</td>\n",
       "<td nowrap=\"nowrap\"><a href=\"/cgi-bin/browse-edgar?action=getcompany&amp;filenum=001-37580&amp;owner=exclude&amp;count=40\">001-37580</a><br/>17788964         </td>\n",
       "</tr>\n",
       "<tr>\n",
       "<td nowrap=\"nowrap\">SC 13G/A</td>\n",
       "<td nowrap=\"nowrap\"><a href=\"/Archives/edgar/data/1652044/000021545717002877/0000215457-17-002877-index.htm\" id=\"documentsbutton\"> Documents</a></td>\n",
       "<td class=\"small\"><b>[Amend]</b> Statement of acquisition of beneficial ownership by individuals<br/>Acc-no: 0000215457-17-002877 (34 Act)  Size: 12 KB            </td>\n",
       "<td>2017-03-09</td>\n",
       "<td nowrap=\"nowrap\"><a href=\"/cgi-bin/browse-edgar?action=getcompany&amp;filenum=005-89274&amp;owner=exclude&amp;count=40\">005-89274</a><br/>17677324         </td>\n",
       "</tr>\n",
       "<tr class=\"blueRow\">\n",
       "<td nowrap=\"nowrap\">SC 13G/A</td>\n",
       "<td nowrap=\"nowrap\"><a href=\"/Archives/edgar/data/1652044/000031506617001420/0000315066-17-001420-index.htm\" id=\"documentsbutton\"> Documents</a></td>\n",
       "<td class=\"small\"><b>[Amend]</b> Statement of acquisition of beneficial ownership by individuals<br/>Acc-no: 0000315066-17-001420 (34 Act)  Size: 9 KB            </td>\n",
       "<td>2017-02-14</td>\n",
       "<td nowrap=\"nowrap\"><a href=\"/cgi-bin/browse-edgar?action=getcompany&amp;filenum=005-89274&amp;owner=exclude&amp;count=40\">005-89274</a><br/>17603997         </td>\n",
       "</tr>\n",
       "<tr>\n",
       "<td nowrap=\"nowrap\">SC 13G/A</td>\n",
       "<td nowrap=\"nowrap\"><a href=\"/Archives/edgar/data/1652044/000119312517041143/0001193125-17-041143-index.htm\" id=\"documentsbutton\"> Documents</a></td>\n",
       "<td class=\"small\"><b>[Amend]</b> Statement of acquisition of beneficial ownership by individuals<br/>Acc-no: 0001193125-17-041143 (34 Act)  Size: 71 KB            </td>\n",
       "<td>2017-02-14</td>\n",
       "<td nowrap=\"nowrap\"><a href=\"/cgi-bin/browse-edgar?action=getcompany&amp;filenum=005-89274&amp;owner=exclude&amp;count=40\">005-89274</a><br/>17601750         </td>\n",
       "</tr>\n",
       "<tr class=\"blueRow\">\n",
       "<td nowrap=\"nowrap\">SC 13G/A</td>\n",
       "<td nowrap=\"nowrap\"><a href=\"/Archives/edgar/data/1652044/000119312517040415/0001193125-17-040415-index.htm\" id=\"documentsbutton\"> Documents</a></td>\n",
       "<td class=\"small\"><b>[Amend]</b> Statement of acquisition of beneficial ownership by individuals<br/>Acc-no: 0001193125-17-040415 (34 Act)  Size: 42 KB            </td>\n",
       "<td>2017-02-13</td>\n",
       "<td nowrap=\"nowrap\"><a href=\"/cgi-bin/browse-edgar?action=getcompany&amp;filenum=005-89274&amp;owner=exclude&amp;count=40\">005-89274</a><br/>17599136         </td>\n",
       "</tr>\n",
       "<tr>\n",
       "<td nowrap=\"nowrap\">SC 13G/A</td>\n",
       "<td nowrap=\"nowrap\"><a href=\"/Archives/edgar/data/1652044/000119312517040409/0001193125-17-040409-index.htm\" id=\"documentsbutton\"> Documents</a></td>\n",
       "<td class=\"small\"><b>[Amend]</b> Statement of acquisition of beneficial ownership by individuals<br/>Acc-no: 0001193125-17-040409 (34 Act)  Size: 44 KB            </td>\n",
       "<td>2017-02-13</td>\n",
       "<td nowrap=\"nowrap\"><a href=\"/cgi-bin/browse-edgar?action=getcompany&amp;filenum=005-89274&amp;owner=exclude&amp;count=40\">005-89274</a><br/>17599105         </td>\n",
       "</tr>\n",
       "<tr class=\"blueRow\">\n",
       "<td nowrap=\"nowrap\">SC 13G/A</td>\n",
       "<td nowrap=\"nowrap\"><a href=\"/Archives/edgar/data/1652044/000093247117001189/0000932471-17-001189-index.htm\" id=\"documentsbutton\"> Documents</a></td>\n",
       "<td class=\"small\"><b>[Amend]</b> Statement of acquisition of beneficial ownership by individuals<br/>Acc-no: 0000932471-17-001189 (34 Act)  Size: 37 KB            </td>\n",
       "<td>2017-02-10</td>\n",
       "<td nowrap=\"nowrap\"><a href=\"/cgi-bin/browse-edgar?action=getcompany&amp;filenum=005-89274&amp;owner=exclude&amp;count=40\">005-89274</a><br/>17589698         </td>\n",
       "</tr>\n",
       "</table>\n",
       "</div>\n",
       "<div style=\"margin-top: 5px; margin-bottom: 5px;\">\n",
       "<form>\n",
       "<table border=\"0\" width=\"100%\">\n",
       "<tr>\n",
       "<td style=\"text-align: right;\"> <input onclick=\"parent.location='/cgi-bin/browse-edgar?action=getcompany&amp;CIK=0001652044&amp;type=&amp;dateb=&amp;owner=exclude&amp;start=40&amp;count=40'\" type=\"button\" value=\"Next 40\"/></td>\n",
       "</tr>\n",
       "</table>\n",
       "</form>\n",
       "</div>\n",
       "</div>\n",
       "<!-- BEGIN FOOTER -->\n",
       "<div id=\"footer\">\n",
       "<div class=\"currentURL\">http://www.sec.gov/cgi-bin/browse-edgar</div>\n",
       "<div class=\"links\"><a href=\"/index.htm\">Home</a> | <a href=\"/edgar/searchedgar/webusers.htm\">Search the Next-Generation EDGAR System</a> | <a href=\"javascript:history.back()\">Previous Page</a></div>\n",
       "<div class=\"modified\">Modified 07/18/2014</div>\n",
       "</div>\n",
       "<!-- END FOOTER -->\n",
       "</body>\n",
       "</html>"
      ]
     },
     "execution_count": 23,
     "metadata": {},
     "output_type": "execute_result"
    }
   ],
   "source": [
    "total"
   ]
  },
  {
   "cell_type": "code",
   "execution_count": 130,
   "metadata": {
    "collapsed": true
   },
   "outputs": [],
   "source": [
    "elems = total.findAll(\"span\", {\"class\":\"mailerAddress\"})"
   ]
  },
  {
   "cell_type": "code",
   "execution_count": 131,
   "metadata": {},
   "outputs": [],
   "source": [
    "mail_street = elems[2].getText()"
   ]
  },
  {
   "cell_type": "code",
   "execution_count": 132,
   "metadata": {
    "scrolled": true
   },
   "outputs": [
    {
     "data": {
      "text/plain": [
       "'1600 AMPHITHEATRE PARKWAY'"
      ]
     },
     "execution_count": 132,
     "metadata": {},
     "output_type": "execute_result"
    }
   ],
   "source": [
    "mail_street"
   ]
  },
  {
   "cell_type": "code",
   "execution_count": 80,
   "metadata": {
    "scrolled": true
   },
   "outputs": [],
   "source": [
    "all_address = elems[3].getText().strip().rsplit(' ', 2)"
   ]
  },
  {
   "cell_type": "code",
   "execution_count": 111,
   "metadata": {
    "collapsed": true
   },
   "outputs": [],
   "source": [
    "mail_city = all_address[0]"
   ]
  },
  {
   "cell_type": "code",
   "execution_count": 114,
   "metadata": {},
   "outputs": [
    {
     "data": {
      "text/plain": [
       "'MOUNTAIN VIEW'"
      ]
     },
     "execution_count": 114,
     "metadata": {},
     "output_type": "execute_result"
    }
   ],
   "source": [
    "mail_city"
   ]
  },
  {
   "cell_type": "code",
   "execution_count": 113,
   "metadata": {
    "collapsed": true
   },
   "outputs": [],
   "source": [
    "mail_state = all_address[1]"
   ]
  },
  {
   "cell_type": "code",
   "execution_count": 115,
   "metadata": {},
   "outputs": [
    {
     "data": {
      "text/plain": [
       "'CA'"
      ]
     },
     "execution_count": 115,
     "metadata": {},
     "output_type": "execute_result"
    }
   ],
   "source": [
    "mail_state"
   ]
  },
  {
   "cell_type": "code",
   "execution_count": 87,
   "metadata": {},
   "outputs": [],
   "source": [
    "zip_code = all_address[2]"
   ]
  },
  {
   "cell_type": "code",
   "execution_count": 88,
   "metadata": {},
   "outputs": [
    {
     "data": {
      "text/plain": [
       "'94043'"
      ]
     },
     "execution_count": 88,
     "metadata": {},
     "output_type": "execute_result"
    }
   ],
   "source": [
    "zip_code "
   ]
  },
  {
   "cell_type": "markdown",
   "metadata": {},
   "source": [
    "### Acquring phone number"
   ]
  },
  {
   "cell_type": "code",
   "execution_count": null,
   "metadata": {
    "collapsed": true
   },
   "outputs": [],
   "source": [
    "elems = total.findAll(\"span\", {\"class\":\"mailerAddress\"})"
   ]
  },
  {
   "cell_type": "code",
   "execution_count": 91,
   "metadata": {},
   "outputs": [],
   "source": [
    "phone = elems[-1].getText()"
   ]
  },
  {
   "cell_type": "code",
   "execution_count": 92,
   "metadata": {},
   "outputs": [
    {
     "data": {
      "text/plain": [
       "'650-253-0000'"
      ]
     },
     "execution_count": 92,
     "metadata": {},
     "output_type": "execute_result"
    }
   ],
   "source": [
    "phone"
   ]
  },
  {
   "cell_type": "markdown",
   "metadata": {},
   "source": [
    "###   Acquire fiscal year end"
   ]
  },
  {
   "cell_type": "code",
   "execution_count": 98,
   "metadata": {
    "collapsed": true
   },
   "outputs": [],
   "source": [
    "elems = total.findAll(\"p\", {\"class\":\"identInfo\"})[0]"
   ]
  },
  {
   "cell_type": "code",
   "execution_count": 105,
   "metadata": {},
   "outputs": [],
   "source": [
    "fiscal_year = elems.contents[9].rsplit(' ', 2)[-1]"
   ]
  },
  {
   "cell_type": "code",
   "execution_count": 109,
   "metadata": {
    "scrolled": true
   },
   "outputs": [
    {
     "data": {
      "text/plain": [
       "<p class=\"identInfo\"><acronym title=\"Standard Industrial Code\">SIC</acronym>: <a href=\"/cgi-bin/browse-edgar?action=getcompany&amp;SIC=7370&amp;owner=exclude&amp;count=40\">7370</a> - SERVICES-COMPUTER PROGRAMMING, DATA PROCESSING, ETC.<br/>State location: <a href=\"/cgi-bin/browse-edgar?action=getcompany&amp;State=CA&amp;owner=exclude&amp;count=40\">CA</a> | State of Inc.: <strong>DE</strong> | Fiscal Year End: 1231<br/>(Assistant Director Office: 3)<br/>Get <a href=\"/cgi-bin/own-disp?action=getissuer&amp;CIK=0001652044\"><b>insider transactions</b></a> for this <b>issuer</b>.\n",
       "<br/>Get <a href=\"/cgi-bin/own-disp?action=getowner&amp;CIK=0001652044\"><b>insider transactions</b></a> for this <b>reporting owner</b>.\n",
       "</p>"
      ]
     },
     "execution_count": 109,
     "metadata": {},
     "output_type": "execute_result"
    }
   ],
   "source": [
    "elems"
   ]
  },
  {
   "cell_type": "markdown",
   "metadata": {},
   "source": [
    "### Acquire state of incorporation"
   ]
  },
  {
   "cell_type": "code",
   "execution_count": 122,
   "metadata": {},
   "outputs": [
    {
     "data": {
      "text/plain": [
       "[<acronym title=\"Standard Industrial Code\">SIC</acronym>,\n",
       " ': ',\n",
       " <a href=\"/cgi-bin/browse-edgar?action=getcompany&amp;SIC=7370&amp;owner=exclude&amp;count=40\">7370</a>,\n",
       " ' - SERVICES-COMPUTER PROGRAMMING, DATA PROCESSING, ETC.',\n",
       " <br/>,\n",
       " 'State location: ',\n",
       " <a href=\"/cgi-bin/browse-edgar?action=getcompany&amp;State=CA&amp;owner=exclude&amp;count=40\">CA</a>,\n",
       " ' | State of Inc.: ',\n",
       " <strong>DE</strong>,\n",
       " ' | Fiscal Year End: 1231',\n",
       " <br/>,\n",
       " '(Assistant Director Office: 3)',\n",
       " <br/>,\n",
       " 'Get ',\n",
       " <a href=\"/cgi-bin/own-disp?action=getissuer&amp;CIK=0001652044\"><b>insider transactions</b></a>,\n",
       " ' for this ',\n",
       " <b>issuer</b>,\n",
       " '.\\n',\n",
       " <br/>,\n",
       " 'Get ',\n",
       " <a href=\"/cgi-bin/own-disp?action=getowner&amp;CIK=0001652044\"><b>insider transactions</b></a>,\n",
       " ' for this ',\n",
       " <b>reporting owner</b>,\n",
       " '.\\n']"
      ]
     },
     "execution_count": 122,
     "metadata": {},
     "output_type": "execute_result"
    }
   ],
   "source": [
    "elems.contents"
   ]
  },
  {
   "cell_type": "code",
   "execution_count": 126,
   "metadata": {},
   "outputs": [],
   "source": [
    "inc_state = elems.contents[8].getText() # state of incorporation"
   ]
  },
  {
   "cell_type": "code",
   "execution_count": 127,
   "metadata": {},
   "outputs": [
    {
     "data": {
      "text/plain": [
       "'DE'"
      ]
     },
     "execution_count": 127,
     "metadata": {},
     "output_type": "execute_result"
    }
   ],
   "source": [
    "inc_state"
   ]
  },
  {
   "cell_type": "markdown",
   "metadata": {},
   "source": [
    "### Wrap together"
   ]
  },
  {
   "cell_type": "code",
   "execution_count": 133,
   "metadata": {},
   "outputs": [],
   "source": [
    "company_info = {}\n",
    "company_info['symbol'] = symbol\n",
    "company_info['name'] = name\n",
    "company_info['CIK'] = CIK\n",
    "company_info['SIC'] = SIC\n",
    "company_info['mail_street'] = mail_street\n",
    "company_info['mail_state'] = mail_state\n",
    "company_info['mail_city'] = mail_city\n",
    "company_info['zip_code'] = zip_code\n",
    "company_info['phone'] = phone\n",
    "company_info['fiscal_year'] = fiscal_year\n",
    "company_info['inc_state'] = inc_state\n",
    "company_info['loac_state'] = mail_state"
   ]
  },
  {
   "cell_type": "code",
   "execution_count": 139,
   "metadata": {},
   "outputs": [
    {
     "data": {
      "text/plain": [
       "{'CIK': '0001652044',\n",
       " 'SIC': '7370',\n",
       " 'fiscal_year': '1231',\n",
       " 'inc_state': 'DE',\n",
       " 'loac_state': 'CA',\n",
       " 'mail_city': 'MOUNTAIN VIEW',\n",
       " 'mail_state': 'CA',\n",
       " 'mail_street': '1600 AMPHITHEATRE PARKWAY',\n",
       " 'name': 'Alphabet Inc. ',\n",
       " 'phone': '650-253-0000',\n",
       " 'symbol': 'GOOG',\n",
       " 'zip_code': '94043'}"
      ]
     },
     "execution_count": 139,
     "metadata": {},
     "output_type": "execute_result"
    }
   ],
   "source": [
    "company_info"
   ]
  },
  {
   "cell_type": "code",
   "execution_count": 135,
   "metadata": {
    "collapsed": true
   },
   "outputs": [],
   "source": [
    "import pandas as pd"
   ]
  },
  {
   "cell_type": "code",
   "execution_count": 140,
   "metadata": {},
   "outputs": [],
   "source": [
    "df = pd.DataFrame([company_info], columns=company_info.keys())"
   ]
  },
  {
   "cell_type": "code",
   "execution_count": 141,
   "metadata": {
    "scrolled": true
   },
   "outputs": [
    {
     "data": {
      "text/html": [
       "<div>\n",
       "<style scoped>\n",
       "    .dataframe tbody tr th:only-of-type {\n",
       "        vertical-align: middle;\n",
       "    }\n",
       "\n",
       "    .dataframe tbody tr th {\n",
       "        vertical-align: top;\n",
       "    }\n",
       "\n",
       "    .dataframe thead th {\n",
       "        text-align: right;\n",
       "    }\n",
       "</style>\n",
       "<table border=\"1\" class=\"dataframe\">\n",
       "  <thead>\n",
       "    <tr style=\"text-align: right;\">\n",
       "      <th></th>\n",
       "      <th>symbol</th>\n",
       "      <th>name</th>\n",
       "      <th>CIK</th>\n",
       "      <th>SIC</th>\n",
       "      <th>mail_street</th>\n",
       "      <th>mail_state</th>\n",
       "      <th>mail_city</th>\n",
       "      <th>zip_code</th>\n",
       "      <th>phone</th>\n",
       "      <th>fiscal_year</th>\n",
       "      <th>inc_state</th>\n",
       "      <th>loac_state</th>\n",
       "    </tr>\n",
       "  </thead>\n",
       "  <tbody>\n",
       "    <tr>\n",
       "      <th>0</th>\n",
       "      <td>GOOG</td>\n",
       "      <td>Alphabet Inc.</td>\n",
       "      <td>0001652044</td>\n",
       "      <td>7370</td>\n",
       "      <td>1600 AMPHITHEATRE PARKWAY</td>\n",
       "      <td>CA</td>\n",
       "      <td>MOUNTAIN VIEW</td>\n",
       "      <td>94043</td>\n",
       "      <td>650-253-0000</td>\n",
       "      <td>1231</td>\n",
       "      <td>DE</td>\n",
       "      <td>CA</td>\n",
       "    </tr>\n",
       "  </tbody>\n",
       "</table>\n",
       "</div>"
      ],
      "text/plain": [
       "  symbol            name         CIK   SIC                mail_street  \\\n",
       "0   GOOG  Alphabet Inc.   0001652044  7370  1600 AMPHITHEATRE PARKWAY   \n",
       "\n",
       "  mail_state      mail_city zip_code         phone fiscal_year inc_state  \\\n",
       "0         CA  MOUNTAIN VIEW    94043  650-253-0000        1231        DE   \n",
       "\n",
       "  loac_state  \n",
       "0         CA  "
      ]
     },
     "execution_count": 141,
     "metadata": {},
     "output_type": "execute_result"
    }
   ],
   "source": [
    "df"
   ]
  },
  {
   "cell_type": "code",
   "execution_count": 146,
   "metadata": {
    "collapsed": true
   },
   "outputs": [],
   "source": [
    "def CompanyInfo(symbol):\n",
    "    \n",
    "    url = 'https://www.sec.gov/cgi-bin/browse-edgar?CIK={0}&owner=exclude&action=getcompany&Find=Search'.format(symbol)\n",
    "\n",
    "    res = requests.get(url)\n",
    "    try:\n",
    "        res.raise_for_status()\n",
    "    except Exception as exc:\n",
    "        print('There was a problem: %s' % (exc))\n",
    "    \n",
    "    # get all tag\n",
    "    total = bs4.BeautifulSoup(res.text, 'lxml')\n",
    "    # company info tag\n",
    "    elems = total.find_all(\"span\", class_=\"companyName\")\n",
    "    \n",
    "    # Company name\n",
    "    # this line is extracted from observing patterns in company names\n",
    "    name = elems[0].getText().split('CIK#')[0]\n",
    "\n",
    "    ##   Error message for function\n",
    "    if (len(name) == 0):\n",
    "        print(\"invalid company symbol\")\n",
    "\n",
    "    # CIK number\n",
    "    CIK = elems[0].getText().split('CIK#')[1]\n",
    "    CIK = re.findall(r'\\d+',CIK)[0] # find all numbers\n",
    "\n",
    "    ## SIC code\n",
    "    elems = total.findAll(\"p\", {\"class\":\"identInfo\"})\n",
    "    \n",
    "    ## Now find address\n",
    "    elems = total.findAll(\"span\", {\"class\":\"mailerAddress\"})\n",
    "    ## mailing street is a standalone line\n",
    "    mail_street = elems[2].getText()\n",
    "    \n",
    "    # all_address include state, city, zip code. Strip them one by one\n",
    "    all_address = elems[3].getText().strip().rsplit(' ', 2)\n",
    "    mail_city = all_address[0]\n",
    "    mail_state = all_address[1]\n",
    "    zip_code = all_address[2]\n",
    "    \n",
    "    # now phone number\n",
    "    phone = elems[-1].getText()\n",
    "    \n",
    "    ## Now fiscal year end\n",
    "    elems = total.findAll(\"p\", {\"class\":\"identInfo\"})[0]\n",
    "    fiscal_year = elems.contents[9].rsplit(' ', 2)[-1]\n",
    "    \n",
    "    ## Now incorporate state\n",
    "    inc_state = elems.contents[8].getText() # state of incorporation\n",
    "    \n",
    "    # Wrap together and return a dictionary\n",
    "    company_info = {}\n",
    "    company_info['symbol'] = symbol\n",
    "    company_info['name'] = name\n",
    "    company_info['CIK'] = CIK\n",
    "    company_info['SIC'] = SIC\n",
    "    company_info['mail_street'] = mail_street\n",
    "    company_info['mail_state'] = mail_state\n",
    "    company_info['mail_city'] = mail_city\n",
    "    company_info['zip_code'] = zip_code\n",
    "    company_info['phone'] = phone\n",
    "    company_info['fiscal_year'] = fiscal_year\n",
    "    company_info['inc_state'] = inc_state\n",
    "    company_info['loac_state'] = mail_state\n",
    "    \n",
    "    return pd.DataFrame([company_info], columns=company_info.keys())"
   ]
  },
  {
   "cell_type": "code",
   "execution_count": 147,
   "metadata": {},
   "outputs": [
    {
     "data": {
      "text/html": [
       "<div>\n",
       "<style scoped>\n",
       "    .dataframe tbody tr th:only-of-type {\n",
       "        vertical-align: middle;\n",
       "    }\n",
       "\n",
       "    .dataframe tbody tr th {\n",
       "        vertical-align: top;\n",
       "    }\n",
       "\n",
       "    .dataframe thead th {\n",
       "        text-align: right;\n",
       "    }\n",
       "</style>\n",
       "<table border=\"1\" class=\"dataframe\">\n",
       "  <thead>\n",
       "    <tr style=\"text-align: right;\">\n",
       "      <th></th>\n",
       "      <th>symbol</th>\n",
       "      <th>name</th>\n",
       "      <th>CIK</th>\n",
       "      <th>SIC</th>\n",
       "      <th>mail_street</th>\n",
       "      <th>mail_state</th>\n",
       "      <th>mail_city</th>\n",
       "      <th>zip_code</th>\n",
       "      <th>phone</th>\n",
       "      <th>fiscal_year</th>\n",
       "      <th>inc_state</th>\n",
       "      <th>loac_state</th>\n",
       "    </tr>\n",
       "  </thead>\n",
       "  <tbody>\n",
       "    <tr>\n",
       "      <th>0</th>\n",
       "      <td>GOOG</td>\n",
       "      <td>Alphabet Inc.</td>\n",
       "      <td>0001652044</td>\n",
       "      <td>7370</td>\n",
       "      <td>1600 AMPHITHEATRE PARKWAY</td>\n",
       "      <td>CA</td>\n",
       "      <td>MOUNTAIN VIEW</td>\n",
       "      <td>94043</td>\n",
       "      <td>650-253-0000</td>\n",
       "      <td>1231</td>\n",
       "      <td>DE</td>\n",
       "      <td>CA</td>\n",
       "    </tr>\n",
       "  </tbody>\n",
       "</table>\n",
       "</div>"
      ],
      "text/plain": [
       "  symbol            name         CIK   SIC                mail_street  \\\n",
       "0   GOOG  Alphabet Inc.   0001652044  7370  1600 AMPHITHEATRE PARKWAY   \n",
       "\n",
       "  mail_state      mail_city zip_code         phone fiscal_year inc_state  \\\n",
       "0         CA  MOUNTAIN VIEW    94043  650-253-0000        1231        DE   \n",
       "\n",
       "  loac_state  \n",
       "0         CA  "
      ]
     },
     "execution_count": 147,
     "metadata": {},
     "output_type": "execute_result"
    }
   ],
   "source": [
    "CompanyInfo('GOOG')"
   ]
  }
 ],
 "metadata": {
  "kernelspec": {
   "display_name": "Python 3",
   "language": "python",
   "name": "python3"
  },
  "language_info": {
   "codemirror_mode": {
    "name": "ipython",
    "version": 3
   },
   "file_extension": ".py",
   "mimetype": "text/x-python",
   "name": "python",
   "nbconvert_exporter": "python",
   "pygments_lexer": "ipython3",
   "version": "3.6.1"
  }
 },
 "nbformat": 4,
 "nbformat_minor": 2
}
